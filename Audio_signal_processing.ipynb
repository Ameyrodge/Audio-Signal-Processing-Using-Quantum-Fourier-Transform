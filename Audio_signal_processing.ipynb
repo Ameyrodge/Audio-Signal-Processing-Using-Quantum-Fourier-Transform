{
 "cells": [
  {
   "cell_type": "code",
   "execution_count": 1,
   "id": "d69f9092",
   "metadata": {},
   "outputs": [],
   "source": [
    "import matplotlib as mpl\n",
    "import matplotlib.pyplot as plt\n",
    "import numpy as np \n",
    "import soundfile as sf\n",
    "import sounddevice as sd"
   ]
  },
  {
   "cell_type": "code",
   "execution_count": 3,
   "id": "c66d4608",
   "metadata": {},
   "outputs": [
    {
     "ename": "LibsndfileError",
     "evalue": "Error opening 'Audio_samples/PianoLaPeriod.wav': System error.",
     "output_type": "error",
     "traceback": [
      "\u001b[0;31m---------------------------------------------------------------------------\u001b[0m",
      "\u001b[0;31mLibsndfileError\u001b[0m                           Traceback (most recent call last)",
      "Cell \u001b[0;32mIn[3], line 1\u001b[0m\n\u001b[0;32m----> 1\u001b[0m Piano,fsp \u001b[38;5;241m=\u001b[39m sf\u001b[38;5;241m.\u001b[39mread(\u001b[38;5;124m'\u001b[39m\u001b[38;5;124mAudio_samples/PianoLaPeriod.wav\u001b[39m\u001b[38;5;124m'\u001b[39m)\n\u001b[1;32m      2\u001b[0m Tumpet,fsp\u001b[38;5;241m=\u001b[39msf\u001b[38;5;241m.\u001b[39mread(\u001b[38;5;124m'\u001b[39m\u001b[38;5;124mTDSound/TrumpetLaPeriod.wav\u001b[39m\u001b[38;5;124m'\u001b[39m)\n\u001b[1;32m      3\u001b[0m Violin,fsp \u001b[38;5;241m=\u001b[39m sf\u001b[38;5;241m.\u001b[39mread(\u001b[38;5;124m'\u001b[39m\u001b[38;5;124mTDSound/ViolinLaPeriod.wav\u001b[39m\u001b[38;5;124m'\u001b[39m)\n",
      "File \u001b[0;32m~/anaconda3/lib/python3.11/site-packages/soundfile.py:285\u001b[0m, in \u001b[0;36mread\u001b[0;34m(file, frames, start, stop, dtype, always_2d, fill_value, out, samplerate, channels, format, subtype, endian, closefd)\u001b[0m\n\u001b[1;32m    199\u001b[0m \u001b[38;5;28;01mdef\u001b[39;00m \u001b[38;5;21mread\u001b[39m(file, frames\u001b[38;5;241m=\u001b[39m\u001b[38;5;241m-\u001b[39m\u001b[38;5;241m1\u001b[39m, start\u001b[38;5;241m=\u001b[39m\u001b[38;5;241m0\u001b[39m, stop\u001b[38;5;241m=\u001b[39m\u001b[38;5;28;01mNone\u001b[39;00m, dtype\u001b[38;5;241m=\u001b[39m\u001b[38;5;124m'\u001b[39m\u001b[38;5;124mfloat64\u001b[39m\u001b[38;5;124m'\u001b[39m, always_2d\u001b[38;5;241m=\u001b[39m\u001b[38;5;28;01mFalse\u001b[39;00m,\n\u001b[1;32m    200\u001b[0m          fill_value\u001b[38;5;241m=\u001b[39m\u001b[38;5;28;01mNone\u001b[39;00m, out\u001b[38;5;241m=\u001b[39m\u001b[38;5;28;01mNone\u001b[39;00m, samplerate\u001b[38;5;241m=\u001b[39m\u001b[38;5;28;01mNone\u001b[39;00m, channels\u001b[38;5;241m=\u001b[39m\u001b[38;5;28;01mNone\u001b[39;00m,\n\u001b[1;32m    201\u001b[0m          \u001b[38;5;28mformat\u001b[39m\u001b[38;5;241m=\u001b[39m\u001b[38;5;28;01mNone\u001b[39;00m, subtype\u001b[38;5;241m=\u001b[39m\u001b[38;5;28;01mNone\u001b[39;00m, endian\u001b[38;5;241m=\u001b[39m\u001b[38;5;28;01mNone\u001b[39;00m, closefd\u001b[38;5;241m=\u001b[39m\u001b[38;5;28;01mTrue\u001b[39;00m):\n\u001b[1;32m    202\u001b[0m \u001b[38;5;250m    \u001b[39m\u001b[38;5;124;03m\"\"\"Provide audio data from a sound file as NumPy array.\u001b[39;00m\n\u001b[1;32m    203\u001b[0m \n\u001b[1;32m    204\u001b[0m \u001b[38;5;124;03m    By default, the whole file is read from the beginning, but the\u001b[39;00m\n\u001b[0;32m   (...)\u001b[0m\n\u001b[1;32m    283\u001b[0m \n\u001b[1;32m    284\u001b[0m \u001b[38;5;124;03m    \"\"\"\u001b[39;00m\n\u001b[0;32m--> 285\u001b[0m     \u001b[38;5;28;01mwith\u001b[39;00m SoundFile(file, \u001b[38;5;124m'\u001b[39m\u001b[38;5;124mr\u001b[39m\u001b[38;5;124m'\u001b[39m, samplerate, channels,\n\u001b[1;32m    286\u001b[0m                    subtype, endian, \u001b[38;5;28mformat\u001b[39m, closefd) \u001b[38;5;28;01mas\u001b[39;00m f:\n\u001b[1;32m    287\u001b[0m         frames \u001b[38;5;241m=\u001b[39m f\u001b[38;5;241m.\u001b[39m_prepare_read(start, stop, frames)\n\u001b[1;32m    288\u001b[0m         data \u001b[38;5;241m=\u001b[39m f\u001b[38;5;241m.\u001b[39mread(frames, dtype, always_2d, fill_value, out)\n",
      "File \u001b[0;32m~/anaconda3/lib/python3.11/site-packages/soundfile.py:658\u001b[0m, in \u001b[0;36mSoundFile.__init__\u001b[0;34m(self, file, mode, samplerate, channels, subtype, endian, format, closefd)\u001b[0m\n\u001b[1;32m    655\u001b[0m \u001b[38;5;28mself\u001b[39m\u001b[38;5;241m.\u001b[39m_mode \u001b[38;5;241m=\u001b[39m mode\n\u001b[1;32m    656\u001b[0m \u001b[38;5;28mself\u001b[39m\u001b[38;5;241m.\u001b[39m_info \u001b[38;5;241m=\u001b[39m _create_info_struct(file, mode, samplerate, channels,\n\u001b[1;32m    657\u001b[0m                                  \u001b[38;5;28mformat\u001b[39m, subtype, endian)\n\u001b[0;32m--> 658\u001b[0m \u001b[38;5;28mself\u001b[39m\u001b[38;5;241m.\u001b[39m_file \u001b[38;5;241m=\u001b[39m \u001b[38;5;28mself\u001b[39m\u001b[38;5;241m.\u001b[39m_open(file, mode_int, closefd)\n\u001b[1;32m    659\u001b[0m \u001b[38;5;28;01mif\u001b[39;00m \u001b[38;5;28mset\u001b[39m(mode)\u001b[38;5;241m.\u001b[39missuperset(\u001b[38;5;124m'\u001b[39m\u001b[38;5;124mr+\u001b[39m\u001b[38;5;124m'\u001b[39m) \u001b[38;5;129;01mand\u001b[39;00m \u001b[38;5;28mself\u001b[39m\u001b[38;5;241m.\u001b[39mseekable():\n\u001b[1;32m    660\u001b[0m     \u001b[38;5;66;03m# Move write position to 0 (like in Python file objects)\u001b[39;00m\n\u001b[1;32m    661\u001b[0m     \u001b[38;5;28mself\u001b[39m\u001b[38;5;241m.\u001b[39mseek(\u001b[38;5;241m0\u001b[39m)\n",
      "File \u001b[0;32m~/anaconda3/lib/python3.11/site-packages/soundfile.py:1216\u001b[0m, in \u001b[0;36mSoundFile._open\u001b[0;34m(self, file, mode_int, closefd)\u001b[0m\n\u001b[1;32m   1213\u001b[0m \u001b[38;5;28;01mif\u001b[39;00m file_ptr \u001b[38;5;241m==\u001b[39m _ffi\u001b[38;5;241m.\u001b[39mNULL:\n\u001b[1;32m   1214\u001b[0m     \u001b[38;5;66;03m# get the actual error code\u001b[39;00m\n\u001b[1;32m   1215\u001b[0m     err \u001b[38;5;241m=\u001b[39m _snd\u001b[38;5;241m.\u001b[39msf_error(file_ptr)\n\u001b[0;32m-> 1216\u001b[0m     \u001b[38;5;28;01mraise\u001b[39;00m LibsndfileError(err, prefix\u001b[38;5;241m=\u001b[39m\u001b[38;5;124m\"\u001b[39m\u001b[38;5;124mError opening \u001b[39m\u001b[38;5;132;01m{0!r}\u001b[39;00m\u001b[38;5;124m: \u001b[39m\u001b[38;5;124m\"\u001b[39m\u001b[38;5;241m.\u001b[39mformat(\u001b[38;5;28mself\u001b[39m\u001b[38;5;241m.\u001b[39mname))\n\u001b[1;32m   1217\u001b[0m \u001b[38;5;28;01mif\u001b[39;00m mode_int \u001b[38;5;241m==\u001b[39m _snd\u001b[38;5;241m.\u001b[39mSFM_WRITE:\n\u001b[1;32m   1218\u001b[0m     \u001b[38;5;66;03m# Due to a bug in libsndfile version <= 1.0.25, frames != 0\u001b[39;00m\n\u001b[1;32m   1219\u001b[0m     \u001b[38;5;66;03m# when opening a named pipe in SFM_WRITE mode.\u001b[39;00m\n\u001b[1;32m   1220\u001b[0m     \u001b[38;5;66;03m# See http://github.com/erikd/libsndfile/issues/77.\u001b[39;00m\n\u001b[1;32m   1221\u001b[0m     \u001b[38;5;28mself\u001b[39m\u001b[38;5;241m.\u001b[39m_info\u001b[38;5;241m.\u001b[39mframes \u001b[38;5;241m=\u001b[39m \u001b[38;5;241m0\u001b[39m\n",
      "\u001b[0;31mLibsndfileError\u001b[0m: Error opening 'Audio_samples/PianoLaPeriod.wav': System error."
     ]
    }
   ],
   "source": [
    "Piano,fsp = sf.read('Audio_samples/PianoLaPeriod.wav')\n",
    "Tumpet,fsp=sf.read('TDSound/TrumpetLaPeriod.wav')\n",
    "Violin,fsp = sf.read('TDSound/ViolinLaPeriod.wav')\n",
    "Flute,fsp = sf.read('TDSound/FluteLaPeriod.wav')"
   ]
  },
  {
   "cell_type": "code",
   "execution_count": null,
   "id": "6e58c51a",
   "metadata": {
    "tags": []
   },
   "outputs": [],
   "source": [
    "print('sampling frequency',fsp)"
   ]
  },
  {
   "cell_type": "code",
   "execution_count": null,
   "id": "e585f56b",
   "metadata": {},
   "outputs": [],
   "source": [
    "N=len(Piano)\n",
    "#timep = np.linspace(0,N,fsp)\n",
    "#plt.plot(timep,Piano)"
   ]
  },
  {
   "cell_type": "code",
   "execution_count": null,
   "id": "9783dd2d",
   "metadata": {},
   "outputs": [],
   "source": [
    "timeP = np.arange(len(Piano))/fsp\n",
    "timeT = np.arange(len(Tumpet))/fsp\n",
    "timeV = np.arange(len(Violin))/fsp\n",
    "timeF = np.arange(len(Flute))/fsp\n",
    "#plt.plot(timeP,Piano)"
   ]
  },
  {
   "cell_type": "markdown",
   "id": "4bfe84f5",
   "metadata": {},
   "source": [
    "#np.fft.fft"
   ]
  },
  {
   "cell_type": "code",
   "execution_count": null,
   "id": "8413d760",
   "metadata": {},
   "outputs": [],
   "source": [
    "fig, axes = plt.subplots(nrows=2,ncols=2,figsize=(12,8))\n",
    "ax1 = axes[0,0]\n",
    "ax2 = axes[0,1]\n",
    "ax3 = axes[1,0]\n",
    "ax4 = axes[1,1]\n",
    "\n",
    "ax1.plot(timeP,Piano)\n",
    "ax1.set_title('Piano')\n",
    "ax1.set_xlabel('ns')\n",
    "ax1.set_ylabel('amplitude')\n",
    "ax2.plot(timeT,Tumpet,'tab:orange')\n",
    "ax2.set_title('Trumpet')\n",
    "ax2.set_xlabel('ns')\n",
    "ax2.set_ylabel('amplitude')\n",
    "ax3.plot(timeV,Violin,'tab:green')\n",
    "ax3.set_title('Violin')\n",
    "ax3.set_xlabel('ns')\n",
    "ax3.set_ylabel('amplitude')\n",
    "ax4.plot(timeF,Flute,'tab:red')\n",
    "ax4.set_title('Flute')\n",
    "ax4.set_xlabel('ns')\n",
    "ax4.set_ylabel('amplitude')\n",
    "plt.tight_layout()\n",
    "plt.show()"
   ]
  },
  {
   "cell_type": "code",
   "execution_count": null,
   "id": "fbfb9371",
   "metadata": {},
   "outputs": [],
   "source": [
    "Piano1000=np.array(list(Piano)*1000)\n",
    "sd.play(np.array(Piano1000),fsp)"
   ]
  },
  {
   "cell_type": "code",
   "execution_count": null,
   "id": "cad2c693",
   "metadata": {},
   "outputs": [],
   "source": [
    "Tumpet1000=np.repeat(Tumpet,1000)\n",
    "sd.play(np.array(Tumpet1000),fsp)"
   ]
  },
  {
   "cell_type": "code",
   "execution_count": null,
   "id": "265d28cd",
   "metadata": {},
   "outputs": [],
   "source": [
    "Violin1000=np.repeat(Violin,1000)\n",
    "sd.play(np.array(Violin1000),fsp)"
   ]
  },
  {
   "cell_type": "code",
   "execution_count": null,
   "id": "4c12c027",
   "metadata": {},
   "outputs": [],
   "source": [
    "Flute1000=np.repeat(Flute,1000)\n",
    "sd.play(np.array(Flute),fsp)"
   ]
  },
  {
   "cell_type": "markdown",
   "id": "831505ef",
   "metadata": {},
   "source": [
    "Fourier transform"
   ]
  },
  {
   "cell_type": "code",
   "execution_count": null,
   "id": "9bfe4490",
   "metadata": {},
   "outputs": [],
   "source": [
    "FT_Piano = np.fft.fft(Piano)\n",
    "FT_Tumpet = np.fft.fft(Tumpet)\n",
    "FT_Violin = np.fft.fft(Violin)\n",
    "FT_Flute = np.fft.fft(Flute)"
   ]
  },
  {
   "cell_type": "code",
   "execution_count": null,
   "id": "6aea127a",
   "metadata": {},
   "outputs": [],
   "source": [
    "freq_axis_Piano =np.fft.fftfreq(len(FT_Piano),1/fsp)\n",
    "#freq_axis_Tumpet = np.fft.fftfreq(len(FT_Tumpet),1/fsp)\n",
    "#freq_axis_Violin = np.fft.fftfreq(len(FT_Violin),1/fsp)\n",
    "#freq_axis_Flute = np.fft.fftfreq(len(FT_Flute),1/fsp)"
   ]
  },
  {
   "cell_type": "code",
   "execution_count": null,
   "id": "43c950b4",
   "metadata": {},
   "outputs": [],
   "source": [
    "Np=len(FT_Piano)\n",
    "Nt=len(FT_Tumpet)\n",
    "Nv=len(FT_Violin)\n",
    "Nf=len(FT_Flute)\n",
    "#sr=fsp/N\n",
    "#freq_piano = np.arange(N)*sr"
   ]
  },
  {
   "cell_type": "code",
   "execution_count": null,
   "id": "85d2ba6d",
   "metadata": {},
   "outputs": [],
   "source": [
    "freq_axis_p = np.arange(Np)*fsp/Np\n",
    "#plt.stem(freq_axis,np.abs(FT_Flute))\n",
    "freq_axis_v = np.arange(Nv)*fsp/Nv\n",
    "freq_axis_t = np.arange(Nt)*fsp/Nt\n",
    "freq_axis_f = np.arange(Nf)*fsp/Nf"
   ]
  },
  {
   "cell_type": "code",
   "execution_count": null,
   "id": "8fd6c250-ef46-49c1-a139-6228303faaa8",
   "metadata": {
    "tags": []
   },
   "outputs": [],
   "source": [
    "#freq_axis_p"
   ]
  },
  {
   "cell_type": "code",
   "execution_count": null,
   "id": "2a7b2fc4",
   "metadata": {},
   "outputs": [],
   "source": [
    "plt.stem(np.abs(FT_Piano))\n",
    "plt.xlim(0,10000)"
   ]
  },
  {
   "cell_type": "code",
   "execution_count": null,
   "id": "a5682586",
   "metadata": {},
   "outputs": [],
   "source": [
    "fig, axes = plt.subplots(nrows=2,ncols=2,figsize=(12,8))\n",
    "ax1 = axes[0,0]\n",
    "ax2 = axes[0,1]\n",
    "ax3 = axes[1,0]\n",
    "ax4 = axes[1,1]\n",
    "ax1.stem(freq_axis_p,np.abs(FT_Piano))\n",
    "ax1.set_title('Piano')\n",
    "ax1.set_xlabel('freq')\n",
    "ax1.set_ylabel('amplitude')\n",
    "ax2.stem(freq_axis_t,np.abs(FT_Tumpet),'tab:orange')\n",
    "ax2.set_title('Tumpet')\n",
    "ax2.set_xlabel('freq')\n",
    "ax2.set_ylabel('amplitude')\n",
    "ax3.stem(freq_axis_v,np.abs(FT_Violin),'tab:green')\n",
    "ax3.set_title('Violin')\n",
    "ax3.set_xlabel('freq')\n",
    "ax3.set_ylabel('amplitude')\n",
    "ax4.stem(freq_axis_f,np.abs(FT_Flute),'tab:red')\n",
    "ax4.set_title('Flute')\n",
    "ax4.set_xlabel('freq')\n",
    "ax4.set_ylabel('amplitude')\n",
    "plt.tight_layout()\n",
    "plt.show()"
   ]
  },
  {
   "cell_type": "code",
   "execution_count": null,
   "id": "71e85344",
   "metadata": {},
   "outputs": [],
   "source": [
    "fig, axes = plt.subplots(nrows=2,ncols=2,figsize=(12,8))\n",
    "ax1 = axes[0,0]\n",
    "ax2 = axes[0,1]\n",
    "ax3 = axes[1,0]\n",
    "ax4 = axes[1,1]\n",
    "ax1.stem(freq_axis_p,np.abs(FT_Piano))\n",
    "ax1.set_xlim(0,4000)\n",
    "ax1.set_title('Piano')\n",
    "ax1.set_xlabel('freq')\n",
    "ax1.set_ylabel('amplitude')\n",
    "ax2.stem(freq_axis_t,np.abs(FT_Tumpet),'tab:orange')\n",
    "ax2.set_xlim(0,4000)\n",
    "ax2.set_title('Tumpet')\n",
    "ax2.set_xlabel('freq')\n",
    "ax2.set_ylabel('amplitude')\n",
    "ax3.stem(freq_axis_v,np.abs(FT_Violin),'tab:green')\n",
    "ax3.set_xlim(0,4000)\n",
    "ax3.set_title('Violin')\n",
    "ax3.set_xlabel('freq')\n",
    "ax3.set_ylabel('amplitude')\n",
    "ax4.stem(freq_axis_f,np.abs(FT_Flute),'tab:red')\n",
    "ax4.set_xlim(0,4000)\n",
    "ax4.set_title('Flute')\n",
    "ax4.set_xlabel('freq')\n",
    "ax4.set_ylabel('amplitude')\n",
    "plt.tight_layout()\n",
    "plt.show()"
   ]
  }
 ],
 "metadata": {
  "kernelspec": {
   "display_name": "Python 3 (ipykernel)",
   "language": "python",
   "name": "python3"
  },
  "language_info": {
   "codemirror_mode": {
    "name": "ipython",
    "version": 3
   },
   "file_extension": ".py",
   "mimetype": "text/x-python",
   "name": "python",
   "nbconvert_exporter": "python",
   "pygments_lexer": "ipython3",
   "version": "3.11.5"
  }
 },
 "nbformat": 4,
 "nbformat_minor": 5
}
